{
 "cells": [
  {
   "cell_type": "markdown",
   "id": "750265b0-be8a-4b72-8e20-f2a3b76bde74",
   "metadata": {},
   "source": [
    "<h1>Data Science Tools and Ecosystem</h1>"
   ]
  },
  {
   "cell_type": "markdown",
   "id": "6774cb69-122e-4584-876d-c5ff3a910db6",
   "metadata": {},
   "source": [
    "En este cuaderno, se resumen las herramientas y ecosistemas de ciencia de datos."
   ]
  },
  {
   "cell_type": "markdown",
   "id": "0eed8eb4-9efd-467a-8a59-8a1f93ae9d49",
   "metadata": {},
   "source": [
    "Algunos de los lenguajes populares que utilizan los científicos de datos son:\n",
    "Python,R,SQL.\n",
    "**Objetivos:**\n",
    "* Listar lenguajes populares para Ciencia de Datos.\n",
    "* Enumerar bibliotecas comúnmente utilizadas para Ciencia de Datos.\n",
    "* Introducir herramientas de desarrollo de código abierto para Ciencia de Datos.\n",
    "* Presentar ejemplos de evaluación de expresiones aritméticas en Python.\n",
    "* Mostrar la conversión de minutos a horas en Python."
   ]
  },
  {
   "cell_type": "markdown",
   "id": "d6c3bc62-f6d0-46bf-b561-c94353686e30",
   "metadata": {},
   "source": [
    "Algunas de las bibliotecas comúnmente utilizadas por los científicos de datos incluyen:\n",
    "Numpy, Pandas, Scikit-learn"
   ]
  },
  {
   "cell_type": "markdown",
   "id": "00b40a04-6be4-4443-a0c7-662b95facce3",
   "metadata": {},
   "source": [
    "| Herramientas de Ciencia de Datos |\n",
    "| --- |\n",
    "| Jupyter Notebooks |\n",
    "| Rstudio |\n",
    "| Apache Spark |"
   ]
  },
  {
   "cell_type": "markdown",
   "id": "c9e2968d-99f0-48bf-abc1-db0053eb545b",
   "metadata": {},
   "source": [
    "<h3> A continuación, se presentan algunos ejemplos de evaluación de expresiones aritméticas en Python </h3>\n",
    "\n",
    "* Suma: `2 + 3`\n",
    "* Resta: `5 - 1`\n",
    "* Multiplicación: `4 * 6`\n",
    "* División: `10 / 2`\n",
    "* Exponente: `2 ** 3`\n",
    "* Agrupación: `(2 + 3) * 4`"
   ]
  },
  {
   "cell_type": "code",
   "execution_count": 1,
   "id": "ef0518fa-16c4-4f17-b60d-0ef5f3fcdb75",
   "metadata": {},
   "outputs": [
    {
     "data": {
      "text/plain": [
       "17"
      ]
     },
     "execution_count": 1,
     "metadata": {},
     "output_type": "execute_result"
    }
   ],
   "source": [
    "#Esta es una expresión aritmética simple para multiplicar y luego sumar enteros\n",
    "(3*4)+5"
   ]
  },
  {
   "cell_type": "code",
   "execution_count": 2,
   "id": "e9eeb46c-f3af-48a7-88c0-057a24ae349c",
   "metadata": {},
   "outputs": [
    {
     "data": {
      "text/plain": [
       "3.3333333333333335"
      ]
     },
     "execution_count": 2,
     "metadata": {},
     "output_type": "execute_result"
    }
   ],
   "source": [
    "# Esto convertirá 200 minutos a horas dividiendo por 60.\n",
    "200 / 60"
   ]
  },
  {
   "cell_type": "markdown",
   "id": "f5d46c8a-e82a-4791-ae03-577967c68629",
   "metadata": {},
   "source": [
    "## Autor\n",
    "Arturo Tovar"
   ]
  },
  {
   "cell_type": "code",
   "execution_count": null,
   "id": "1c02b596-f6dc-4d11-b66c-b96f6293c78e",
   "metadata": {},
   "outputs": [],
   "source": []
  }
 ],
 "metadata": {
  "kernelspec": {
   "display_name": "Python 3 (ipykernel)",
   "language": "python",
   "name": "python3"
  },
  "language_info": {
   "codemirror_mode": {
    "name": "ipython",
    "version": 3
   },
   "file_extension": ".py",
   "mimetype": "text/x-python",
   "name": "python",
   "nbconvert_exporter": "python",
   "pygments_lexer": "ipython3",
   "version": "3.12.8"
  }
 },
 "nbformat": 4,
 "nbformat_minor": 5
}
